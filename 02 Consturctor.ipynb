{
 "cells": [
  {
   "cell_type": "markdown",
   "id": "a76fbd7e-0ca9-440b-86fd-c571d326d420",
   "metadata": {},
   "source": [
    "# Constructor"
   ]
  },
  {
   "cell_type": "markdown",
   "id": "cfc76b33-1f89-4b5e-a2f9-9d70da94a45a",
   "metadata": {},
   "source": [
    "#### Constructor is a type of sub routine in OOP. Constructor is used to assign value to data members when an object is created inside a class.The __init__() function is used as a constructor in python almost every time we create an object. In polymorphism , we use this __init__() function almost everywhere.\n"
   ]
  },
  {
   "cell_type": "markdown",
   "id": "4c91af18-43bf-448b-92e9-bf98ef5f9b27",
   "metadata": {},
   "source": [
    "### Instance variable"
   ]
  },
  {
   "cell_type": "markdown",
   "id": "316ab6f0-f447-400c-b611-ba9bee871345",
   "metadata": {},
   "source": [
    "Variables used in methods called as instance variable"
   ]
  },
  {
   "cell_type": "markdown",
   "id": "ae25a29d-615c-4922-8adf-8f8743950b6a",
   "metadata": {},
   "source": [
    "### Class variable"
   ]
  },
  {
   "cell_type": "markdown",
   "id": "24b50635-e7e1-472f-8474-9ba65b2123e4",
   "metadata": {},
   "source": [
    "variable used in class or declaired in class called as class variable"
   ]
  },
  {
   "cell_type": "code",
   "execution_count": 1,
   "id": "1beec560-a47e-4d08-b409-7b764d291794",
   "metadata": {},
   "outputs": [
    {
     "name": "stdout",
     "output_type": "stream",
     "text": [
      "BMW 10 4\n",
      "BMW 10 4\n"
     ]
    }
   ],
   "source": [
    "class car:\n",
    "    wheels = 4\n",
    "    def __init__(self):\n",
    "        self.comp = 'BMW'\n",
    "        self.mil = 10\n",
    "\n",
    "c1 = car()\n",
    "c2 = car()\n",
    "\n",
    "print(c1.comp,c1.mil,c1.wheels)\n",
    "print(c2.comp,c2.mil,c2.wheels)"
   ]
  },
  {
   "cell_type": "code",
   "execution_count": 2,
   "id": "b7240fad-455a-45e2-bcf9-084437ec9b09",
   "metadata": {},
   "outputs": [
    {
     "name": "stdout",
     "output_type": "stream",
     "text": [
      "BMW 10 6\n",
      "BMW 10 6\n"
     ]
    }
   ],
   "source": [
    "car.wheels=6\n",
    "print(c1.comp,c1.mil,c1.wheels)\n",
    "print(c2.comp,c2.mil,c2.wheels)"
   ]
  },
  {
   "cell_type": "markdown",
   "id": "f58dbae7-8207-4a84-b7d0-3a4a49bddc22",
   "metadata": {},
   "source": [
    "### Types of Meathod"
   ]
  },
  {
   "cell_type": "markdown",
   "id": "de21b96d-a9fb-4e97-8328-fa10ff6fdb28",
   "metadata": {},
   "source": [
    "1. Instance Method\n",
    "\n",
    "2. Class Methods\n",
    "\n",
    "3. Static Meathods"
   ]
  },
  {
   "cell_type": "code",
   "execution_count": 1,
   "id": "ba0f39d7-13d8-4625-b04f-4321209b4213",
   "metadata": {},
   "outputs": [
    {
     "data": {
      "text/plain": [
       "50.0"
      ]
     },
     "execution_count": 1,
     "metadata": {},
     "output_type": "execute_result"
    }
   ],
   "source": [
    "class Student:\n",
    "    school = 'Itvedant'\n",
    "    def __init__(self, m1,m2,m3):\n",
    "        self.m1 = m1\n",
    "        self.m2 = m2\n",
    "        self.m3 = m3\n",
    "    def avg(self):\n",
    "        return (self.m1+self.m2+self.m3)/3\n",
    "    \n",
    "s1 = Student(30,36,70)\n",
    "s2 = Student(30,34,78)\n",
    "Student(40,50,60).avg()"
   ]
  },
  {
   "cell_type": "markdown",
   "id": "ce3610c5-fe99-45de-9474-43c4034b05be",
   "metadata": {},
   "source": [
    "## Accessor & Mutator"
   ]
  },
  {
   "cell_type": "markdown",
   "id": "a76c2045-cc3d-4902-9380-10d8f42d4862",
   "metadata": {},
   "source": [
    "Accesor\\Getter = to fetch the values  \n",
    "\n",
    "\n",
    "Mutator\\setter = to set the value"
   ]
  },
  {
   "cell_type": "code",
   "execution_count": 4,
   "id": "10677e34-e2e7-4c1f-aab2-1896d7e7ec6a",
   "metadata": {},
   "outputs": [
    {
     "data": {
      "text/plain": [
       "66"
      ]
     },
     "execution_count": 4,
     "metadata": {},
     "output_type": "execute_result"
    }
   ],
   "source": [
    "class Student:\n",
    "    school = 'Itvedant'\n",
    "    def __init__(self, m1,m2,m3):\n",
    "        self.m1 = m1\n",
    "        self.m2 = m2\n",
    "        self.m3 = m3\n",
    "    def get_m1(self):\n",
    "        return self.m1\n",
    "    def set_m1(self,value):\n",
    "        self.m1 = value\n",
    "s1 = Student(30,36,70)\n",
    "s1.get_m1\n",
    "s1.set_m1(66)\n",
    "s1.m1"
   ]
  },
  {
   "cell_type": "code",
   "execution_count": 5,
   "id": "757bc75c-0f46-4a25-99a3-99100590d8f3",
   "metadata": {},
   "outputs": [
    {
     "name": "stdout",
     "output_type": "stream",
     "text": [
      "Itvedant\n",
      "(30, 36, 70)\n",
      "45.333333333333336\n"
     ]
    }
   ],
   "source": [
    "class Student:\n",
    "    school = 'Itvedant'\n",
    "    def __init__(self,*args):\n",
    "        self.args = args\n",
    "        \n",
    "    def  info(self):\n",
    "        return self.school\n",
    "    def avg_1(self):\n",
    "        return sum(self.args)/len(self.args)\n",
    "s1 = Student(30,36,70)\n",
    "print(s1.info())\n",
    "print(s1.args)\n",
    "print(s1.avg_1())"
   ]
  },
  {
   "cell_type": "markdown",
   "id": "f76149ed-db5b-43fe-b1fc-1574d319c010",
   "metadata": {},
   "source": [
    "# Inheritance"
   ]
  },
  {
   "cell_type": "code",
   "execution_count": 6,
   "id": "6c15f769-6e58-4953-8f1e-e6ac86567990",
   "metadata": {},
   "outputs": [
    {
     "name": "stdout",
     "output_type": "stream",
     "text": [
      "Feature 1 is working\n",
      "Feature 1 is working\n",
      "Feature 4 is working\n"
     ]
    }
   ],
   "source": [
    "class A:                                   # Parent class or Base class or Super class\n",
    "    def feature1(self):\n",
    "        print('Feature 1 is working')\n",
    "    def feature2(self):\n",
    "        print('Feature 2 is working')\n",
    "class B(A):                               # Child class \n",
    "    def feature3(self):\n",
    "        print('Fearture 3 is working')\n",
    "    def feature4(self):\n",
    "        print('Feature 4 is working')\n",
    "a1 = A()\n",
    "b1 = B()\n",
    "a1.feature1()\n",
    "b1.feature1()\n",
    "b1.feature4()"
   ]
  },
  {
   "cell_type": "markdown",
   "id": "f161e501-17cd-4413-be1a-2974e3856044",
   "metadata": {},
   "source": [
    "# Multilevel Inheritance"
   ]
  },
  {
   "cell_type": "code",
   "execution_count": 7,
   "id": "3ab29332-6574-4ab2-8c68-95fd92f70ff1",
   "metadata": {},
   "outputs": [
    {
     "name": "stdout",
     "output_type": "stream",
     "text": [
      "Feature 1 is working\n"
     ]
    }
   ],
   "source": [
    "class A:                                   # Parent class or Base class or Super class\n",
    "    def feature1(self):\n",
    "        print('Feature 1 is working')\n",
    "    def feature2(self):\n",
    "        print('Feature 2 is working')\n",
    "class B(A):                               # Child class \n",
    "    def feature3(self):\n",
    "        print('Fearture 3 is working')\n",
    "    def feature4(self):\n",
    "        print('Feature 4 is working')\n",
    "class C(B):\n",
    "    def feature5(self):\n",
    "        print('Fearture 5 is working')\n",
    "    def feature6(self):\n",
    "        print('Feature 6 is working')\n",
    "        \n",
    "C().feature1()"
   ]
  },
  {
   "cell_type": "markdown",
   "id": "81e82cfb-dd4a-4ca7-a0d7-c6c202053328",
   "metadata": {},
   "source": [
    "# Multiple Inheritance"
   ]
  },
  {
   "cell_type": "code",
   "execution_count": 8,
   "id": "8c9dba78-0493-4d27-b99e-bcd69ce4f8fd",
   "metadata": {},
   "outputs": [
    {
     "name": "stdout",
     "output_type": "stream",
     "text": [
      "Feature 1 is working\n"
     ]
    }
   ],
   "source": [
    "class A:                                   # Parent class or Base class or Super class\n",
    "    def feature1(self):\n",
    "        print('Feature 1 is working')\n",
    "    def feature2(self):\n",
    "        print('Feature 2 is working')\n",
    "class B:                                 # Parent class\n",
    "    def feature3(self):\n",
    "        print('Fearture 3 is working')\n",
    "    def feature4(self):\n",
    "        print('Feature 4 is working')\n",
    "class C(A,B):                            # Child class\n",
    "    def feature5(self):\n",
    "        print('Fearture 5 is working')\n",
    "    def feature6(self):\n",
    "        print('Feature 6 is working')\n",
    "        \n",
    "C().feature1()"
   ]
  },
  {
   "cell_type": "code",
   "execution_count": 9,
   "id": "bdc50e8e-3c48-4e71-b3fe-6a21f0fd3095",
   "metadata": {},
   "outputs": [
    {
     "name": "stdout",
     "output_type": "stream",
     "text": [
      "in init of A\n",
      "in init of C\n",
      "Feature 1 is working\n",
      "in init of A\n",
      "in init of B\n",
      "Feature 1 is working\n",
      "in init of A\n",
      "Feature 1 is working\n"
     ]
    }
   ],
   "source": [
    "class A:                                   # Parent class or Base class or Super class\n",
    "    def __init__(self):\n",
    "        print('in init of A')\n",
    "    def feature1(self):\n",
    "        print('Feature 1 is working')\n",
    "    def feature2(self):\n",
    "        print('Feature 2 is working')\n",
    "class B(A):                                # Child class of A\n",
    "    def __init__(self):\n",
    "        super().__init__()\n",
    "        print('in init of B')\n",
    "    def feature3(self):\n",
    "        print('Fearture 3 is working')\n",
    "    def feature4(self):\n",
    "        print('Feature 4 is working')\n",
    "class C(A):                             # Child class of B  \n",
    "    def __init__(self):\n",
    "        super().__init__()\n",
    "        print('in init of C')\n",
    "    def feature5(self):\n",
    "        print('Fearture 5 is working')\n",
    "    def feature6(self):\n",
    "        print('Feature 6 is working')\n",
    "        \n",
    "C().feature1()\n",
    "B().feature1()\n",
    "A().feature1()"
   ]
  },
  {
   "cell_type": "markdown",
   "id": "93663e21-8191-4f58-b166-ef45aee19d04",
   "metadata": {},
   "source": [
    "# Method resolution order (MRO)"
   ]
  },
  {
   "cell_type": "code",
   "execution_count": 10,
   "id": "8f5feafa-dd9a-49b9-b9e0-824596c02d5d",
   "metadata": {},
   "outputs": [
    {
     "name": "stdout",
     "output_type": "stream",
     "text": [
      "in init of A\n",
      "in init of C\n",
      "Feature A-1 is working\n",
      "in init of A\n",
      "in init of C\n",
      "Fearture B-1 is working\n",
      "in init of A\n",
      "in init of C\n",
      "Fearture C-1 is working\n"
     ]
    }
   ],
   "source": [
    "class A:                                   # Parent class or Base class or Super class\n",
    "    def __init__(self):\n",
    "        print('in init of A')\n",
    "    def feature1(self):\n",
    "        print('Feature A-1 is working')\n",
    "    def feature2(self):\n",
    "        print('Feature 2 is working')\n",
    "class B():                                # Parent class\n",
    "    def __init__(self):\n",
    "        print('in init of B')\n",
    "    def feature3(self):\n",
    "        print('Fearture B-1 is working')\n",
    "    def feature4(self):\n",
    "        print('Feature 4 is working')\n",
    "class C(A,B):                             # Child class   \n",
    "    def __init__(self):\n",
    "        super().__init__()\n",
    "        print('in init of C')\n",
    "    def feature5(self):\n",
    "        print('Fearture C-1 is working')\n",
    "    def feature6(self):\n",
    "        print('Feature 6 is working')\n",
    "        \n",
    "C().feature1()\n",
    "C().feature3()\n",
    "C().feature5()"
   ]
  },
  {
   "cell_type": "markdown",
   "id": "07a308de-c86b-4a96-afff-898f6c6e79a5",
   "metadata": {},
   "source": [
    "### Hirarchical Inheritance"
   ]
  },
  {
   "cell_type": "code",
   "execution_count": 11,
   "id": "06f81e27-185a-4076-9324-310216e25544",
   "metadata": {},
   "outputs": [
    {
     "name": "stdout",
     "output_type": "stream",
     "text": [
      "in init of A\n",
      "in init of C\n",
      "Feature A-1 is working\n",
      "in init of A\n",
      "in init of B\n",
      "Feature A-1 is working\n"
     ]
    }
   ],
   "source": [
    "class A:                                   # Parent class or Base class or Super class\n",
    "    def __init__(self):\n",
    "        print('in init of A')\n",
    "    def feature1(self):\n",
    "        print('Feature A-1 is working')\n",
    "    def feature2(self):\n",
    "        print('Feature 2 is working')\n",
    "class B(A):                                # Child class\n",
    "    def __init__(self):\n",
    "        super().__init__()\n",
    "        print('in init of B')\n",
    "    def feature3(self):\n",
    "        print('Fearture B-1 is working')\n",
    "    def feature4(self):\n",
    "        print('Feature 4 is working')\n",
    "class C(A):                             # Child class   \n",
    "    def __init__(self):\n",
    "        super().__init__()\n",
    "        print('in init of C')\n",
    "    def feature5(self):\n",
    "        print('Fearture C-1 is working')\n",
    "    def feature6(self):\n",
    "        print('Feature 6 is working')\n",
    "C().feature1()\n",
    "B().feature1()"
   ]
  },
  {
   "cell_type": "code",
   "execution_count": 12,
   "id": "d189ff45-33b2-4aba-8ec7-f915b8c30b4f",
   "metadata": {},
   "outputs": [
    {
     "name": "stdout",
     "output_type": "stream",
     "text": [
      "in init of B\n",
      "in init of C\n",
      "Fearture B-1 is working\n",
      "in init of B\n",
      "in init of C\n",
      "Feature A-1 is working\n",
      "in init of B\n",
      "Feature A-1 is working\n"
     ]
    }
   ],
   "source": [
    "class A:                                   # Parent class or Base class or Super class\n",
    "    def __init__(self):\n",
    "        print('in init of A')\n",
    "    def feature1(self):\n",
    "        print('Feature A-1 is working')\n",
    "    def feature2(self):\n",
    "        print('Feature 2 is working')\n",
    "class B(A):                                # Child class\n",
    "    def __init__(self):\n",
    "        \n",
    "        print('in init of B')\n",
    "    def feature3(self):\n",
    "        print('Fearture B-1 is working')\n",
    "    def feature4(self):\n",
    "        print('Feature 4 is working')\n",
    "class C(B,A):                             # Child class   \n",
    "    def __init__(self):\n",
    "        super().__init__()\n",
    "        print('in init of C')\n",
    "    def feature5(self):\n",
    "        print('Fearture C-1 is working')\n",
    "    def feature6(self):\n",
    "        print('Feature 6 is working')\n",
    "C().feature3()\n",
    "C().feature1()\n",
    "B().feature1()"
   ]
  },
  {
   "cell_type": "markdown",
   "id": "551f4011-5f51-4bc1-9599-c73a70cd2fb7",
   "metadata": {},
   "source": [
    "# Encapsulation"
   ]
  },
  {
   "cell_type": "markdown",
   "id": "279f5016-ba9b-43da-bb0f-14a2dc971fcd",
   "metadata": {},
   "source": [
    "A class is an example of encapsulation as it binds all the data menbers and methods into a single unit."
   ]
  },
  {
   "cell_type": "code",
   "execution_count": 13,
   "id": "34ff2396-4408-4491-af83-be34ea0208d6",
   "metadata": {},
   "outputs": [
    {
     "name": "stdout",
     "output_type": "stream",
     "text": [
      "BMW 10\n"
     ]
    }
   ],
   "source": [
    "# Private Variable Example (can be called only its class and not any other child class)\n",
    "class car:\n",
    "    wheels = 4\n",
    "    def __init__(self):\n",
    "        self.comp = 'BMW'\n",
    "        self.__mil = 10    # private variable(double __)\n",
    "    def info(self):\n",
    "        print(self.comp,self.__mil)\n",
    "car().info() \n",
    "#car().__mil"
   ]
  },
  {
   "cell_type": "markdown",
   "id": "8a1c40f2-bec7-468c-b97b-65b8261217db",
   "metadata": {},
   "source": [
    "#### Mangling meathod is used to access variable outside the class"
   ]
  },
  {
   "cell_type": "code",
   "execution_count": 2,
   "id": "467c34ee-fad7-48d9-8c35-13c2e902a52a",
   "metadata": {},
   "outputs": [],
   "source": [
    "# Protected Variable Example (single_ and can be called in other class aswell)\n",
    "class student():\n",
    "    def __init__(self):\n",
    "        self._name = 'Shubham'\n",
    "\n",
    "class info(student):\n",
    "    def __init__(self):\n",
    "        student.__init__(self)\n",
    "        print('calling of p.m. of base class')\n",
    "        print(self._name)\n"
   ]
  },
  {
   "cell_type": "code",
   "execution_count": 15,
   "id": "0bbce086-9224-4785-97af-ab179075c4fe",
   "metadata": {},
   "outputs": [
    {
     "name": "stdout",
     "output_type": "stream",
     "text": [
      "Name: Jessa Salary: 8000\n",
      "Jessa is working on NPL\n"
     ]
    }
   ],
   "source": [
    "class Employee:\n",
    "    def __init__(self, name, salary, project):\n",
    "        self.name = name\n",
    "        self.salary = salary\n",
    "        self.project = project\n",
    "        # method\n",
    "        # to display employee's\n",
    "    def show(self):\n",
    "        # accessing public data member\n",
    "        print('Name:',self.name,'Salary:',self.salary)\n",
    "        \n",
    "        # method\n",
    "    def work(self):\n",
    "        print(self.name,'is working on', self.project)\n",
    "        \n",
    "# creating object of a class\n",
    "emp = Employee('Jessa',8000,'NPL')\n",
    "emp.show()\n",
    "emp.work()"
   ]
  },
  {
   "cell_type": "markdown",
   "id": "9ea9315e-2341-4eca-ab97-9f939e1876f9",
   "metadata": {},
   "source": [
    "### Public Method : Accessible anywhere from outside the class\n",
    "\n",
    "### Private Member : Accessible within the class\n",
    "\n",
    "### Protected Member : Accessible within the class and its sub-classess"
   ]
  },
  {
   "cell_type": "code",
   "execution_count": 16,
   "id": "ae8cd207-3322-4ea9-be82-a09bbfd93e34",
   "metadata": {},
   "outputs": [
    {
     "name": "stdout",
     "output_type": "stream",
     "text": [
      "Salary: 8000\n"
     ]
    }
   ],
   "source": [
    "class Employee:\n",
    "    def __init__(self, name, salary, project):\n",
    "        self.name = name            # public Variable\n",
    "        self._salary = salary       # protected Variable\n",
    "        self.__project = project    # private Variable\n",
    "        \n",
    "        \n",
    "emp = Employee('Jessa',8000,'NPL')\n",
    "print(\"Salary:\",emp._salary)\n",
    "#print(\"Project:\",emp.__project)"
   ]
  },
  {
   "cell_type": "code",
   "execution_count": 17,
   "id": "a39d6411-8154-4b50-8de5-a89ee59736ff",
   "metadata": {},
   "outputs": [
    {
     "name": "stdout",
     "output_type": "stream",
     "text": [
      "Salary = 10000\n"
     ]
    }
   ],
   "source": [
    "class Employee:\n",
    "    def __init__(self, name, salary):\n",
    "        self.name = name            # public Variable\n",
    "        self.__salary = salary       # private Variable\n",
    "            \n",
    "\n",
    "    def info(self):\n",
    "        print(\"Salary =\",self.__salary)\n",
    "# creating a object of a class\n",
    "emp = Employee('Jesse',10000)\n",
    "# accessing private data members\n",
    "emp.info()"
   ]
  },
  {
   "cell_type": "code",
   "execution_count": 18,
   "id": "6da12e7e-e241-41a9-92cb-7c2522a19dbb",
   "metadata": {},
   "outputs": [
    {
     "name": "stdout",
     "output_type": "stream",
     "text": [
      "Salary : 10000\n"
     ]
    }
   ],
   "source": [
    "class Employee:\n",
    "    def __init__(self, name, salary):\n",
    "        self.name = name            # public Variable\n",
    "        self.__salary = salary       # private Variable\n",
    "            \n",
    "\n",
    "# creating a object of a class\n",
    "emp = Employee('Jesse',10000)\n",
    "# accessing private data members using mangling\n",
    "print(\"Salary :\", emp._Employee__salary)"
   ]
  },
  {
   "cell_type": "code",
   "execution_count": 19,
   "id": "ee69f93b-df82-4fc7-9e99-9fe0dc9118d8",
   "metadata": {},
   "outputs": [
    {
     "name": "stdout",
     "output_type": "stream",
     "text": [
      "Employee name: Jessa\n",
      "Working on Project: NPL\n",
      "project: NPL\n"
     ]
    }
   ],
   "source": [
    "# Protected Variable\n",
    "class Company():\n",
    "    def __init__(self):\n",
    "        self._project = \"NPL\"\n",
    "        \n",
    "class Employee(Company):\n",
    "    def __init__(self,name):\n",
    "        self.name = name\n",
    "        # calling protectd member in child class \n",
    "        Company.__init__(self)\n",
    "    def show(self):\n",
    "        print(\"Employee name:\",self.name)\n",
    "        # Accessing protected member in child class\n",
    "        print(\"Working on Project:\",self._project)\n",
    "        \n",
    "c = Employee(\"Jessa\")\n",
    "c.show()\n",
    "\n",
    "# Direct access projected data member\n",
    "print(\"project:\",c._project)"
   ]
  },
  {
   "cell_type": "code",
   "execution_count": 20,
   "id": "8c26521f-68a0-481d-99b5-995bc74d9a67",
   "metadata": {},
   "outputs": [
    {
     "name": "stdout",
     "output_type": "stream",
     "text": [
      "11\n",
      "Name : Jessa Age: 21 Roll No: 11\n"
     ]
    }
   ],
   "source": [
    "# Protected memeber \n",
    "class Student():\n",
    "    def __init__(self,name,age,roll_no):\n",
    "        self.__roll_no = roll_no\n",
    "        self.__age = age\n",
    "        self.name = name\n",
    "    def show(self):\n",
    "        print(\"Name :\",self.name,\"Age:\",self.__age,\"Roll No:\",self.__roll_no) \n",
    "        \n",
    "    def get_roll_no(self):\n",
    "        return self.__roll_no\n",
    "    def set_roll_no(self,value):\n",
    "         self.__roll_no = value\n",
    "\n",
    "s = Student('Jessa',21,10)\n",
    "s.get_roll_no()\n",
    "s.set_roll_no(11)\n",
    "print(s.get_roll_no())\n",
    "s.show()"
   ]
  },
  {
   "cell_type": "markdown",
   "id": "401a866f-fd58-4ebe-868b-df633af46f23",
   "metadata": {},
   "source": [
    "# Polymorphism"
   ]
  },
  {
   "cell_type": "markdown",
   "id": "964d4451-1f4e-4c4a-9c87-2875d2dd2515",
   "metadata": {},
   "source": [
    "### Operator Overloading\n",
    "\n",
    "Magical Method"
   ]
  },
  {
   "cell_type": "code",
   "execution_count": 3,
   "id": "c9f8e563-0e40-49f4-8a26-0ea17fea3ab1",
   "metadata": {},
   "outputs": [
    {
     "data": {
      "text/plain": [
       "1289"
      ]
     },
     "execution_count": 3,
     "metadata": {},
     "output_type": "execute_result"
    }
   ],
   "source": [
    "class Employee():\n",
    "    def __init__(self,name,salary):\n",
    "        self.name = name\n",
    "        self.salary = salary\n",
    "    def Emp_details(self):\n",
    "        return (f\"The name od employee is{self.name} & salary is {self.salary}\")\n",
    "        \n",
    "    def __add__(self,other):\n",
    "        return self.salary + other.salary\n",
    "    def __truediv__(self,other):\n",
    "        return self.salary / other.salary\n",
    "    \n",
    "Emp1 = Employee(\"Rohan\", 389)\n",
    "Emp2 = Employee(\"Rohit\",900)\n",
    "Emp1 + Emp2\n",
    "#Emp1 / Emp2"
   ]
  },
  {
   "cell_type": "markdown",
   "id": "e948dae6-d151-457f-8bff-8229625ba96b",
   "metadata": {},
   "source": [
    "### Method Overloading"
   ]
  },
  {
   "cell_type": "code",
   "execution_count": 5,
   "id": "f03ff9e3-b69c-41d4-b2af-446ee12d041b",
   "metadata": {},
   "outputs": [
    {
     "name": "stdout",
     "output_type": "stream",
     "text": [
      "120\n"
     ]
    }
   ],
   "source": [
    "\n",
    "# First product method.\n",
    "# Takes two argument and print their\n",
    "# product\n",
    "def product(a, b):\n",
    "    p = a * b\n",
    "    print(p)\n",
    "      \n",
    "# Second product method\n",
    "# Takes three argument and print their\n",
    "# product\n",
    "def product(a, b, c):\n",
    "    p = a * b*c\n",
    "    print(p)\n",
    "product(4,5,6)"
   ]
  },
  {
   "cell_type": "code",
   "execution_count": 23,
   "id": "ae5dd261-e4f9-4e38-8571-4161e2ac81dc",
   "metadata": {},
   "outputs": [
    {
     "name": "stdout",
     "output_type": "stream",
     "text": [
      "Hello\n",
      "Hello Shubham\n"
     ]
    }
   ],
   "source": [
    "# Program illustration Method overlaoding\n",
    "class Human():\n",
    "    def Hello(self,name = None):\n",
    "        if name is not None:\n",
    "            print ('Hello '+ name)\n",
    "        else:\n",
    "            print('Hello')\n",
    "obj = Human()\n",
    "obj.Hello()\n",
    "obj.Hello('Shubham')"
   ]
  },
  {
   "cell_type": "code",
   "execution_count": 24,
   "id": "1987a967-5362-4756-9dce-d1740f862978",
   "metadata": {},
   "outputs": [],
   "source": [
    "# Duck Typing\n"
   ]
  },
  {
   "cell_type": "markdown",
   "id": "c0ce8266-8c00-421c-a7ba-5065beca7ffe",
   "metadata": {},
   "source": [
    "# Abstraction"
   ]
  },
  {
   "cell_type": "code",
   "execution_count": 25,
   "id": "e7c75b0e-70a1-4861-9439-53e71a2a2b24",
   "metadata": {},
   "outputs": [
    {
     "name": "stdout",
     "output_type": "stream",
     "text": [
      "16\n"
     ]
    },
    {
     "data": {
      "text/plain": [
       "24"
      ]
     },
     "execution_count": 25,
     "metadata": {},
     "output_type": "execute_result"
    }
   ],
   "source": [
    "from abc import ABC, abstractmethod\n",
    "class Shape(ABC):\n",
    "    @abstractmethod\n",
    "    def area(self):\n",
    "        pass\n",
    "    def parameter(self):\n",
    "            pass\n",
    "class Square(Shape):\n",
    "    def __init__(self,s):\n",
    "        self.side = s\n",
    "    def area(self):\n",
    "        return self.side*self.side\n",
    "    def parameter(self):\n",
    "        return 4*self.side\n",
    "print(Square(4).area())\n",
    "Square(6).parameter()"
   ]
  },
  {
   "cell_type": "code",
   "execution_count": 26,
   "id": "0cbd67f3-eb0c-4df3-a3ab-26fcb970771d",
   "metadata": {},
   "outputs": [
    {
     "name": "stdout",
     "output_type": "stream",
     "text": [
      "concrete method\n",
      "Abstraction Method\n",
      "Abstract Class\n"
     ]
    }
   ],
   "source": [
    "from abc import ABC, abstractmethod\n",
    "class Name(ABC):\n",
    "    @abstractmethod\n",
    "    def disp(self):\n",
    "        pass\n",
    "    def show(self):\n",
    "        print(\"concrete method\")\n",
    "class Child(Name):\n",
    "    def disp(self):\n",
    "        print(\"Abstraction Method\")\n",
    "        print(\"Abstract Class\")\n",
    "Child().show()\n",
    "Child().disp()"
   ]
  },
  {
   "cell_type": "markdown",
   "id": "8ccc4c3d-6c1d-476c-823f-6700f1db79f9",
   "metadata": {},
   "source": [
    "### Rules For Abstraction\n",
    "1. Abstract Method must be defined in all child or sub class\n",
    "2. Can't create obj, of abstract class"
   ]
  },
  {
   "cell_type": "code",
   "execution_count": 27,
   "id": "520fd02b-0cdf-4011-b99c-2720a4e124be",
   "metadata": {},
   "outputs": [
    {
     "name": "stdout",
     "output_type": "stream",
     "text": [
      "In the abstract method of child1\n",
      "In the abstract method of Child2\n"
     ]
    }
   ],
   "source": [
    "from abc import ABC, abstractmethod\n",
    "class Parent(ABC):\n",
    "    def common_fn(self):\n",
    "        print(\"In the common method Parent\")\n",
    "    @abstractmethod\n",
    "    def abs_fn(self):\n",
    "        pass\n",
    "    \n",
    "class Child1(Parent):\n",
    "    def abs_fn(self):\n",
    "        print(\"In the abstract method of child1\")\n",
    "        \n",
    "class Child2(Parent):\n",
    "    def abs_fn(self):\n",
    "        print(\"In the abstract method of Child2\")\n",
    "c1 = Child1()\n",
    "c2 = Child2()\n",
    "c1.abs_fn()\n",
    "c2.abs_fn()"
   ]
  },
  {
   "cell_type": "code",
   "execution_count": 28,
   "id": "177631e5-ae4c-4582-9146-b6848868cce9",
   "metadata": {},
   "outputs": [
    {
     "name": "stdout",
     "output_type": "stream",
     "text": [
      "In the abstract method of child1\n",
      "I m Abstract method\n",
      "In the abstract method of Child2\n"
     ]
    }
   ],
   "source": [
    "from abc import ABC, abstractmethod\n",
    "class Parent(ABC):\n",
    "    def common_fn(self):\n",
    "        print(\"In the common method Parent\")\n",
    "    @abstractmethod\n",
    "    def abs_fn(self):\n",
    "        print(\"I m Abstract method\")\n",
    "    \n",
    "class Child1(Parent):\n",
    "    def abs_fn(self):\n",
    "        print(\"In the abstract method of child1\")\n",
    "        \n",
    "class Child2(Parent):\n",
    "    def abs_fn(self):\n",
    "        super().abs_fn()\n",
    "        print(\"In the abstract method of Child2\")\n",
    "c1 = Child1()\n",
    "c2 = Child2()\n",
    "c1.abs_fn()\n",
    "c2.abs_fn()"
   ]
  },
  {
   "cell_type": "code",
   "execution_count": null,
   "id": "1c8fc5b1-c751-4877-9738-f58de7dcd85b",
   "metadata": {},
   "outputs": [],
   "source": []
  }
 ],
 "metadata": {
  "kernelspec": {
   "display_name": "Python 3 (ipykernel)",
   "language": "python",
   "name": "python3"
  },
  "language_info": {
   "codemirror_mode": {
    "name": "ipython",
    "version": 3
   },
   "file_extension": ".py",
   "mimetype": "text/x-python",
   "name": "python",
   "nbconvert_exporter": "python",
   "pygments_lexer": "ipython3",
   "version": "3.9.7"
  }
 },
 "nbformat": 4,
 "nbformat_minor": 5
}
