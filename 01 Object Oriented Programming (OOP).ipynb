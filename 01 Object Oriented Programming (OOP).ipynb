{
 "cells": [
  {
   "cell_type": "markdown",
   "id": "55ac3e3a-3a26-4695-bd4f-645eacdbf1a6",
   "metadata": {},
   "source": [
    "# Object Oriented Programming"
   ]
  },
  {
   "cell_type": "code",
   "execution_count": 1,
   "id": "7ceb61ca-4462-4964-a78a-c63ed08f285a",
   "metadata": {},
   "outputs": [
    {
     "name": "stdout",
     "output_type": "stream",
     "text": [
      "<class 'float'>\n"
     ]
    }
   ],
   "source": [
    "print(type(34.45))"
   ]
  },
  {
   "cell_type": "code",
   "execution_count": 2,
   "id": "4ec4fddd-48b2-4549-8929-6e079674b830",
   "metadata": {},
   "outputs": [
    {
     "name": "stdout",
     "output_type": "stream",
     "text": [
      "<class '__main__.Sample'>\n"
     ]
    }
   ],
   "source": [
    "class Sample:\n",
    "    pass\n",
    "\n",
    "print(type(Sample()))"
   ]
  },
  {
   "cell_type": "code",
   "execution_count": 3,
   "id": "d68abeb9-b031-47a5-bff9-848b9ae4b32d",
   "metadata": {},
   "outputs": [
    {
     "name": "stdout",
     "output_type": "stream",
     "text": [
      "BMW 10\n",
      "BMW 10\n"
     ]
    }
   ],
   "source": [
    "class car:\n",
    "    def __init__(self):\n",
    "        self.comp = 'BMW'\n",
    "        self.mil = 10\n",
    "\n",
    "c1 = car()\n",
    "c2 = car()\n",
    "\n",
    "print(c1.comp,c1.mil)\n",
    "print(c2.comp,c2.mil)"
   ]
  },
  {
   "cell_type": "code",
   "execution_count": 4,
   "id": "59ea37a5-fce8-4338-84a3-093107ecbad2",
   "metadata": {},
   "outputs": [
    {
     "name": "stdout",
     "output_type": "stream",
     "text": [
      "I am inside init\n",
      "Merca 5\n"
     ]
    }
   ],
   "source": [
    "class Car:\n",
    "    def __init__(self):                   #__init__ is a constructor\n",
    "        print('I am inside init')\n",
    "    def config(self,comp,mil):\n",
    "        self.comp = comp\n",
    "        self.mil = mil\n",
    "        print(self.comp,self.mil)\n",
    "\n",
    "c1 = Car()\n",
    "c1.config(\"Merca\",5)"
   ]
  },
  {
   "cell_type": "code",
   "execution_count": 5,
   "id": "996b5b89-f91f-44cf-9dc4-fefab92fc087",
   "metadata": {},
   "outputs": [
    {
     "name": "stdout",
     "output_type": "stream",
     "text": [
      "These are Names and Rollno\n",
      "Student name is Shubham and the roll no is 93\n"
     ]
    }
   ],
   "source": [
    "class Student:\n",
    "    def __init__(self):                  \n",
    "        print('These are Names and Rollno')\n",
    "    def config(self,Name,Rollno):\n",
    "        self.Name = Name\n",
    "        self.Rollno = Rollno\n",
    "        print('Student name is {} and the roll no is {}'.format(Name,self.Rollno) )\n",
    "       # print(f'Student name is {Name} and the roll no is {self.Rollno}' )\n",
    "\n",
    "s1 = Student()\n",
    "s1.config('Shubham',93)"
   ]
  },
  {
   "cell_type": "code",
   "execution_count": null,
   "id": "9e546ce9-f8a7-41b0-bd84-b51a9928f8e7",
   "metadata": {},
   "outputs": [],
   "source": []
  }
 ],
 "metadata": {
  "kernelspec": {
   "display_name": "Python 3 (ipykernel)",
   "language": "python",
   "name": "python3"
  },
  "language_info": {
   "codemirror_mode": {
    "name": "ipython",
    "version": 3
   },
   "file_extension": ".py",
   "mimetype": "text/x-python",
   "name": "python",
   "nbconvert_exporter": "python",
   "pygments_lexer": "ipython3",
   "version": "3.9.7"
  }
 },
 "nbformat": 4,
 "nbformat_minor": 5
}
